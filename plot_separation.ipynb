{
 "cells": [
  {
   "cell_type": "code",
   "execution_count": 1,
   "outputs": [
    {
     "name": "stdout",
     "output_type": "stream",
     "text": [
      "{0: array(['brigand'], dtype='<U22'), 1: array(['correspondents'], dtype='<U22'), 2: array(['reacquired'], dtype='<U22')}\n"
     ]
    }
   ],
   "source": [
    "import pickle\n",
    "import torch\n",
    "import matplotlib.pyplot as plt"
   ],
   "metadata": {
    "collapsed": false,
    "ExecuteTime": {
     "end_time": "2024-04-17T17:39:43.463185Z",
     "start_time": "2024-04-17T17:39:42.491905Z"
    }
   },
   "id": "af179db1fd01aa2d"
  },
  {
   "cell_type": "code",
   "execution_count": null,
   "outputs": [],
   "source": [
    "# Load the data about the clusters\n",
    "_, data = pickle.load(open(\"./glove/kmeans_clusters_500.pkl\", \"rb\"))\n",
    "\n",
    "# Check if GPU(s) are available\n",
    "device = torch.device('cuda' if torch.cuda.is_available() else 'cpu')\n",
    "\n",
    "X, labels = None, None\n",
    "for key in data.keys():\n",
    "    if X is None:\n",
    "        X = torch.Tensor(data[key])\n",
    "        labels = torch.reshape(torch.Tensor([key] * len(data[key])), (-1, 1))\n",
    "    else:\n",
    "        X = torch.cat([X, torch.Tensor(data[key])])\n",
    "        temp = torch.reshape(torch.Tensor([key] * len(data[key])), (-1, 1))\n",
    "        labels = torch.cat([labels, temp])\n",
    "\n",
    "# Create the set of unique labels\n",
    "targets = [x.item() for x in labels]\n",
    "unique_labels = list(set(targets))\n",
    "\n",
    "for j in unique_labels:\n",
    "    glove_vectors = []\n",
    "    model_vectors = []  \n",
    "    explanations = pickle.load(open(f\"closest_words-{j}.pkl\", \"rb\"))\n",
    "    for exp in explanations:\n",
    "        glove_vectors.append(exp[\"glove vector\"])\n",
    "        model_vectors.append(exp[\"produced vector\"])\n",
    "        \n",
    "    # Model vectors is a k length list of d dimensional vectors\n",
    "    # Turn it into a k x d tensor\n",
    "    model_vectors = torch.Tensor(model_vectors)\n",
    "    glove_vectors = torch.Tensor(glove_vectors)\n",
    "    \n",
    "    y = model_vectors\n",
    "    model_vector_projection_matrix = y @ (y.T @ y).inverse() @ y.T\n",
    "    \n",
    "    y = glove_vectors\n",
    "    glove_vector_projection_matrix = y @ (y.T @ y).inverse() @ y.T\n",
    "    \n",
    "    # Project X\n",
    "    X_model = model_vector_projection_matrix @ X.T\n",
    "    X_glove = glove_vector_projection_matrix @ X.T\n",
    "    \n",
    "    X_model = X_model.T\n",
    "    X_glove = X_glove.T\n",
    "    \n",
    "    # Plot X_model according to the model vectors\n",
    "    plt.scatter(X_model[:, 0], X_model[:, 1], c=labels, cmap='viridis')\n",
    "    plt.title(f\"Model vectors for cluster {j}\")\n",
    "    \n",
    "    plt.savefig(f\"model_vectors-{j}.png\")\n",
    "    plt.show()\n",
    "    \n",
    "    # Plot X_glove according to the glove vectors\n",
    "    plt.scatter(X_glove[:, 0], X_glove[:, 1], c=labels, cmap='viridis')\n",
    "    plt.title(f\"Glove vectors for cluster {j}\")\n",
    "    \n",
    "    plt.savefig(f\"glove_vectors-{j}.png\")\n",
    "    plt.show()"
   ],
   "metadata": {
    "collapsed": false
   },
   "id": "f3f85568751658a"
  }
 ],
 "metadata": {
  "kernelspec": {
   "display_name": "Python 3",
   "language": "python",
   "name": "python3"
  },
  "language_info": {
   "codemirror_mode": {
    "name": "ipython",
    "version": 2
   },
   "file_extension": ".py",
   "mimetype": "text/x-python",
   "name": "python",
   "nbconvert_exporter": "python",
   "pygments_lexer": "ipython2",
   "version": "2.7.6"
  }
 },
 "nbformat": 4,
 "nbformat_minor": 5
}
