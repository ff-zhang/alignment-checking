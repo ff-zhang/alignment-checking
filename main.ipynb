{
 "cells": [
  {
   "cell_type": "code",
   "execution_count": 1,
   "id": "initial_id",
   "metadata": {
    "collapsed": true,
    "ExecuteTime": {
     "end_time": "2024-04-15T19:50:15.953249Z",
     "start_time": "2024-04-15T19:50:15.006832Z"
    }
   },
   "outputs": [],
   "source": [
    "import torch\n",
    "import pickle\n",
    "\n",
    "# Load sharding.pkl\n",
    "with open('sharding.pkl', 'rb') as f:\n",
    "    interval_dict = pickle.load(f)"
   ]
  },
  {
   "cell_type": "code",
   "execution_count": null,
   "outputs": [],
   "source": [
    "models = {}\n",
    "interval = 25\n",
    "for k in interval_dict.keys():\n",
    "    start = k\n",
    "    end = start + interval\n",
    "    \n",
    "    shard = pickle.load(open(f'models_{start}_{end}.pkl', 'rb'))\n",
    "    \n",
    "    for key in shard.keys():\n",
    "        if models[key] is not None:\n",
    "            models[key] = shard[key]\n",
    "            \n",
    "# Save the models dictionary to a file\n",
    "with open('all_models.pkl', 'wb') as f:\n",
    "    pickle.dump(models, f)"
   ],
   "metadata": {
    "collapsed": false
   },
   "id": "1bc2498206ff1670"
  }
 ],
 "metadata": {
  "kernelspec": {
   "display_name": "Python 3",
   "language": "python",
   "name": "python3"
  },
  "language_info": {
   "codemirror_mode": {
    "name": "ipython",
    "version": 2
   },
   "file_extension": ".py",
   "mimetype": "text/x-python",
   "name": "python",
   "nbconvert_exporter": "python",
   "pygments_lexer": "ipython2",
   "version": "2.7.6"
  }
 },
 "nbformat": 4,
 "nbformat_minor": 5
}
