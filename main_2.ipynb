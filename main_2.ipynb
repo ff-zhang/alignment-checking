{
 "cells": [
  {
   "cell_type": "markdown",
   "source": [],
   "metadata": {
    "collapsed": false
   },
   "id": "1ca3a5af7959f258"
  },
  {
   "cell_type": "code",
   "execution_count": 1,
   "outputs": [
    {
     "name": "stdout",
     "output_type": "stream",
     "text": [
      "{0: array(['brigand'], dtype='<U22'), 1: array(['correspondents'], dtype='<U22'), 2: array(['reacquired'], dtype='<U22')}\n"
     ]
    }
   ],
   "source": [
    "import pickle\n",
    "import torch\n",
    "\n",
    "explanations = pickle.load(open(\"./projectors/closest_words-0.pkl\", \"rb\"))\n",
    "\n",
    "print(explanations)"
   ],
   "metadata": {
    "collapsed": false,
    "ExecuteTime": {
     "end_time": "2024-04-17T17:39:43.463185Z",
     "start_time": "2024-04-17T17:39:42.491905Z"
    }
   },
   "id": "af179db1fd01aa2d"
  }
 ],
 "metadata": {
  "kernelspec": {
   "display_name": "Python 3",
   "language": "python",
   "name": "python3"
  },
  "language_info": {
   "codemirror_mode": {
    "name": "ipython",
    "version": 2
   },
   "file_extension": ".py",
   "mimetype": "text/x-python",
   "name": "python",
   "nbconvert_exporter": "python",
   "pygments_lexer": "ipython2",
   "version": "2.7.6"
  }
 },
 "nbformat": 4,
 "nbformat_minor": 5
}
